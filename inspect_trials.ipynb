{
 "cells": [
  {
   "cell_type": "code",
   "execution_count": 168,
   "metadata": {},
   "outputs": [],
   "source": [
    "import matplotlib.pyplot as plt\n",
    "import numpy as np\n",
    "import os\n",
    "import re"
   ]
  },
  {
   "cell_type": "code",
   "execution_count": 169,
   "metadata": {},
   "outputs": [
    {
     "name": "stdout",
     "output_type": "stream",
     "text": [
      "00 N-00500K-0050p-0_000a-1_600_v0.dat\n",
      "01 N-00500K-0170p-0_000a-1_600_v0.dat\n",
      "02 N-01000K-0100p-0_000a-1_600_v0.dat\n",
      "03 N-01000K-0340p-0_000a-1_600_v0.dat\n",
      "04 N-01500K-0150p-0_000a-1_600_v0.dat\n",
      "05 N-01500K-0510p-0_000a-1_600_v0.dat\n",
      "06 N-02000K-0200p-0_000a-1_600_v0.dat\n",
      "07 N-02000K-0680p-0_000a-1_600_v0.dat\n",
      "08 N-02500K-0250p-0_000a-1_600_v0.dat\n",
      "09 N-02500K-0850p-0_000a-1_600_v0.dat\n",
      "10 N-03000K-0300p-0_000a-1_600_v0.dat\n",
      "11 N-03000K-1020p-0_000a-1_600_v0.dat\n",
      "12 batches-N-00500K-0050p-0_000a-1_000-3_500_v0.dat\n",
      "13 batches-N-00500K-0170p-0_000a-1_000-3_500_v0.dat\n",
      "14 batches-N-01000K-0100p-0_000a-1_000-3_500_v0.dat\n",
      "15 batches-N-01000K-0340p-0_000a-1_000-3_500_v0.dat\n",
      "16 batches-N-01500K-0150p-0_000a-1_000-3_500_v0.dat\n",
      "17 batches-N-01500K-0510p-0_000a-1_000-3_500_v0.dat\n",
      "18 batches-N-02000K-0200p-0_000a-1_000-3_500_v0.dat\n",
      "19 batches-N-02000K-0680p-0_000a-1_000-3_500_v0.dat\n",
      "20 batches-N-02500K-0250p-0_000a-1_000-3_500_v0.dat\n",
      "21 batches-N-02500K-0850p-0_000a-1_000-3_500_v0.dat\n",
      "22 batches-N-03000K-0300p-0_000a-1_000-3_500_v0.dat\n",
      "23 batches-N-03000K-1020p-0_000a-1_000-3_500_v0.dat\n"
     ]
    }
   ],
   "source": [
    "files = sorted(os.listdir('phd'))\n",
    "for i, f in enumerate(files):\n",
    "    print('%2.2d'%i, f)"
   ]
  },
  {
   "cell_type": "code",
   "execution_count": 170,
   "metadata": {},
   "outputs": [
    {
     "name": "stdout",
     "output_type": "stream",
     "text": [
      "['N=1000', 'k=340', 'p=0.000000', 'a=1.600000', 'BURN=34538', 'ITERS=34538\\n']\n",
      "N-01000K-0340p-0_000a-1_600_v0.dat\n",
      "N=1000 K=340\n",
      "BURN=34538\n"
     ]
    }
   ],
   "source": [
    "file = files[3]\n",
    "data = np.loadtxt('phd/' + file, skiprows=2, delimiter=',')\n",
    "N = int(file[file.find('N-') + 2 : file.find('K-')])\n",
    "K = int(file[file.find('K-') + 2 : file.find('p-')])\n",
    "with open('phd/' + file, 'r') as f:\n",
    "    header = f.readline().split(',')\n",
    "    print(header)\n",
    "    BURN = int(re.sub(r'[^0-9]', '', header[-2]))\n",
    "    a = float(re.sub(r'[^0-9\\.]', '', header[3]))\n",
    "print(file)\n",
    "print('N=%d'%N, 'K=%d'%K)\n",
    "print('BURN=%d'%BURN)"
   ]
  },
  {
   "cell_type": "code",
   "execution_count": 171,
   "metadata": {},
   "outputs": [],
   "source": [
    "r2 = data[:,0]\n",
    "N0 = data[:,1]\n",
    "N1 = data[:,2]\n",
    "t = data[:,3]\n",
    "dt = data[:,4]"
   ]
  },
  {
   "cell_type": "code",
   "execution_count": 172,
   "metadata": {},
   "outputs": [
    {
     "name": "stdout",
     "output_type": "stream",
     "text": [
      "crossings: 10\n",
      "Measured frequency: 0.1340\n"
     ]
    }
   ],
   "source": [
    "fig = plt.figure(figsize=(18,10))\n",
    "ax = fig.add_subplot(111)\n",
    "\n",
    "ax.plot(t, N0, label='$N^0$', color='blue')\n",
    "ax.axvline(t[BURN], lw=3, color='red', label='Burn In')\n",
    "ax.axhline(N/3, color='k')\n",
    "ax.set_xlim(0, t[-1])\n",
    "ax.grid()\n",
    "ax.set_ylabel('Population', fontsize=18)\n",
    "ax.set_xlabel('Time', fontsize=18)\n",
    "ax.set_title('Frequency Detection on Individual Trials\\n(N=%d K=%d a=%.2f)'%(N,K,a), fontsize=22)\n",
    "\n",
    "t_start = 0\n",
    "t_end = 0\n",
    "started = False\n",
    "cooldown = int(N * 0.65)\n",
    "cd_started = False\n",
    "crossings = 0\n",
    "counter = 0\n",
    "has_label = False\n",
    "\n",
    "yprev = N0[BURN-1] - N/3\n",
    "for i in range(BURN, len(t)):\n",
    "    y = N0[i] - N/3\n",
    "    if np.sign(yprev) != np.sign(y) and not cd_started:\n",
    "        if not started:\n",
    "            t_start = t[i]\n",
    "            started = True\n",
    "        t_end = t[i]\n",
    "        cd_started = True\n",
    "        crossings += 1\n",
    "        \n",
    "        if not has_label:\n",
    "            has_label = True\n",
    "            ax.axvline(t[i], color='green', label='Detected Crossings')\n",
    "            ax.axvline(t[i+cooldown], color='purple', label='Cooldown Period')\n",
    "        else:\n",
    "            ax.axvline(t[i], color='green')\n",
    "            ax.axvline(t[i+cooldown], color='purple')\n",
    "    if cd_started:\n",
    "        counter += 1\n",
    "    if counter > cooldown:\n",
    "        cd_started = False\n",
    "        counter = 0\n",
    "    yprev = y\n",
    "    \n",
    "print('crossings:', crossings)\n",
    "freq = (crossings - 1) / 2 / (t_end - t_start)\n",
    "print(\"Measured frequency: %.4f\" % freq)\n",
    "omega = 2*np.pi*freq\n",
    "\n",
    "plt.legend(loc='upper left', fontsize=18)\n",
    "inv = ax.transData.inverted()\n",
    "plt.text(*inv.transform((200,150)), '$\\omega$=%.3f'%omega, bbox=dict(fc='red', alpha=0.5), fontsize=26)\n",
    "#plt.show()\n",
    "plt.savefig('foooo.png')"
   ]
  },
  {
   "cell_type": "code",
   "execution_count": null,
   "metadata": {},
   "outputs": [],
   "source": []
  }
 ],
 "metadata": {
  "kernelspec": {
   "display_name": "Python 3",
   "language": "python",
   "name": "python3"
  },
  "language_info": {
   "codemirror_mode": {
    "name": "ipython",
    "version": 3
   },
   "file_extension": ".py",
   "mimetype": "text/x-python",
   "name": "python",
   "nbconvert_exporter": "python",
   "pygments_lexer": "ipython3",
   "version": "3.6.5"
  }
 },
 "nbformat": 4,
 "nbformat_minor": 2
}
